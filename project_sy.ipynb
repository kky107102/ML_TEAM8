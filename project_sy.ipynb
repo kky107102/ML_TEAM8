{
  "metadata": {
    "kernelspec": {
      "display_name": "Python 3",
      "name": "python3"
    },
    "language_info": {
      "pygments_lexer": "ipython3",
      "nbconvert_exporter": "python",
      "version": "3.6.4",
      "file_extension": ".py",
      "codemirror_mode": {
        "name": "ipython",
        "version": 3
      },
      "name": "python",
      "mimetype": "text/x-python"
    },
    "kaggle": {
      "accelerator": "none",
      "dataSources": [
        {
          "sourceId": 5256696,
          "sourceType": "datasetVersion",
          "datasetId": 3041726
        },
        {
          "sourceId": 7598969,
          "sourceType": "datasetVersion",
          "datasetId": 4423404
        }
      ],
      "isInternetEnabled": false,
      "language": "python",
      "sourceType": "notebook",
      "isGpuEnabled": false
    },
    "colab": {
      "provenance": [],
      "gpuType": "L4",
      "include_colab_link": true
    },
    "accelerator": "GPU"
  },
  "nbformat_minor": 0,
  "nbformat": 4,
  "cells": [
    {
      "cell_type": "markdown",
      "metadata": {
        "id": "view-in-github",
        "colab_type": "text"
      },
      "source": [
        "<a href=\"https://colab.research.google.com/github/kky107102/ML_TEAM8/blob/main/project_sy.ipynb\" target=\"_parent\"><img src=\"https://colab.research.google.com/assets/colab-badge.svg\" alt=\"Open In Colab\"/></a>"
      ]
    },
    {
      "source": [
        "\n",
        "# IMPORTANT: RUN THIS CELL IN ORDER TO IMPORT YOUR KAGGLE DATA SOURCES\n",
        "# TO THE CORRECT LOCATION (/kaggle/input) IN YOUR NOTEBOOK,\n",
        "# THEN FEEL FREE TO DELETE THIS CELL.\n",
        "# NOTE: THIS NOTEBOOK ENVIRONMENT DIFFERS FROM KAGGLE'S PYTHON\n",
        "# ENVIRONMENT SO THERE MAY BE MISSING LIBRARIES USED BY YOUR\n",
        "# NOTEBOOK.\n",
        "\n",
        "import os\n",
        "import sys\n",
        "from tempfile import NamedTemporaryFile\n",
        "from urllib.request import urlopen\n",
        "from urllib.parse import unquote, urlparse\n",
        "from urllib.error import HTTPError\n",
        "from zipfile import ZipFile\n",
        "import tarfile\n",
        "import shutil\n",
        "\n",
        "CHUNK_SIZE = 40960\n",
        "#DATA_SOURCE_MAPPING = 'cifake-real-and-ai-generated-synthetic-images:https%3A%2F%2Fstorage.googleapis.com%2Fkaggle-data-sets%2F3041726%2F5256696%2Fbundle%2Farchive.zip%3FX-Goog-Algorithm%3DGOOG4-RSA-SHA256%26X-Goog-Credential%3Dgcp-kaggle-com%2540kaggle-161607.iam.gserviceaccount.com%252F20240521%252Fauto%252Fstorage%252Fgoog4_request%26X-Goog-Date%3D20240521T065729Z%26X-Goog-Expires%3D259200%26X-Goog-SignedHeaders%3Dhost%26X-Goog-Signature%3D6c684e57ccb8384b0703e544ae35155c6333360ffaca3a834646626f08ec95cadd5ed04731d574024a0244abb053e2c7c1240fc4f1873d06aa12791bd0765682c5c39b22778dcde67cfb4677019d9baad079e5465f51eee12d0e5c370ba5afac5e92f008817cf32b37f49fd91115b10baf31dc8a0b070f79d0b94cb80c03978ae9a361dff5cc86532ef009e53312d634e33eb0cd363a17da532b8e97231eb8ebcd19d0c94eeead784f7bff842d5b9a6066be69d255aa04297825656e22ef9570abb32b029cd2f63f75d682ad8040239c2e340c98a606f841082ce2ee71a139c93c52a1477de66a484533f69eeb360eab126e087706f8bdd11e30bc6d4e9af89f,ai-generated-images-vs-real-images:https%3A%2F%2Fstorage.googleapis.com%2Fkaggle-data-sets%2F4423404%2F7598969%2Fbundle%2Farchive.zip%3FX-Goog-Algorithm%3DGOOG4-RSA-SHA256%26X-Goog-Credential%3Dgcp-kaggle-com%2540kaggle-161607.iam.gserviceaccount.com%252F20240521%252Fauto%252Fstorage%252Fgoog4_request%26X-Goog-Date%3D20240521T065729Z%26X-Goog-Expires%3D259200%26X-Goog-SignedHeaders%3Dhost%26X-Goog-Signature%3D745082cefb831d02e87a3e8292f1e723519e11f9c9b75db0102d400849d51a8369a8caa8b67318e05e4141cbd80465252f9dc8e8a3d4d5295559f6598e0306c6bcd42ed80a774c7f4560604a76f874062f3a81eeae6c32fd0cb81c9911c7f037d4c0ff84a9cb3552c57764dbf28d83392148d9f5b6b5e18ef7b79ac81ae46bd768269fa8c60679bf6d5d31cd779eebe7fdc556a9b92479cf91bf2b6a0314c13ee7abc2edcf40583286c38c2d466856c536b4f7a4ede6d65b130f292509d3e341bd5aeb0ab363d94ff5fb499f626d5fa498181c176e0ba5822be5fb8d94de31ab3c5658acbc3997864f1cbdcf52cc4f3bf2261dfb64b0b54a1df165bff798eb1f'\n",
        "DATA_SOURCE_MAPPING = 'cifake-real-and-ai-generated-synthetic-images:https%3A%2F%2Fstorage.googleapis.com%2Fkaggle-data-sets%2F3041726%2F5256696%2Fbundle%2Farchive.zip%3FX-Goog-Algorithm%3DGOOG4-RSA-SHA256%26X-Goog-Credential%3Dgcp-kaggle-com%2540kaggle-161607.iam.gserviceaccount.com%252F20240524%252Fauto%252Fstorage%252Fgoog4_request%26X-Goog-Date%3D20240524T160053Z%26X-Goog-Expires%3D259200%26X-Goog-SignedHeaders%3Dhost%26X-Goog-Signature%3D45f84f9268a230de6017b9dbcc20d861fd507b19d2602ec52c03f49496962d9b1a4377bf5b2261ee54dd1a242a64725a52c668630f626081525ab3645e74d2d31847f3fd5eb57029599ccc5b32392d7c2f880143b58ebb5fe1ff97170ebaa825dd8220f1eda7838e41b3cf235f1d4a119c6c749fb5d8ff9bcdf2a4afe9c51cb421287f096abe40b90dc5c88dda92109574347293b25dc1981e4471307aa9bb48d99dda96f7e0447e0f4342b89bc6ca322d05a50abf6afbd1c6b048e13edd47bbf5d1ae459e43c1c45da8928229dd4e7b3aff8d428749608c136878b29d5f2656844b6eaa86c362ed2b1076e07921335f152698afd8a87982584ffc6e88ccd92b'\n",
        "\n",
        "KAGGLE_INPUT_PATH='/content/kaggle/input'\n",
        "KAGGLE_WORKING_PATH='/content/kaggle/working'\n",
        "KAGGLE_SYMLINK='kaggle'\n",
        "\n",
        "!umount /kaggle/input/ 2> /dev/null\n",
        "shutil.rmtree('/kaggle/input', ignore_errors=True)\n",
        "os.makedirs(KAGGLE_INPUT_PATH, 0o777, exist_ok=True)\n",
        "os.makedirs(KAGGLE_WORKING_PATH, 0o777, exist_ok=True)\n",
        "\n",
        "try:\n",
        "  os.symlink(KAGGLE_INPUT_PATH, os.path.join(\"..\", 'input'), target_is_directory=True)\n",
        "except FileExistsError:\n",
        "  pass\n",
        "try:\n",
        "  os.symlink(KAGGLE_WORKING_PATH, os.path.join(\"..\", 'working'), target_is_directory=True)\n",
        "except FileExistsError:\n",
        "  pass\n",
        "\n",
        "for data_source_mapping in DATA_SOURCE_MAPPING.split(','):\n",
        "    directory, download_url_encoded = data_source_mapping.split(':')\n",
        "    download_url = unquote(download_url_encoded)\n",
        "    filename = urlparse(download_url).path\n",
        "    destination_path = os.path.join(KAGGLE_INPUT_PATH, directory)\n",
        "    try:\n",
        "        with urlopen(download_url) as fileres, NamedTemporaryFile() as tfile:\n",
        "            total_length = fileres.headers['content-length']\n",
        "            print(f'Downloading {directory}, {total_length} bytes compressed')\n",
        "            dl = 0\n",
        "            data = fileres.read(CHUNK_SIZE)\n",
        "            while len(data) > 0:\n",
        "                dl += len(data)\n",
        "                tfile.write(data)\n",
        "                done = int(50 * dl / int(total_length))\n",
        "                sys.stdout.write(f\"\\r[{'=' * done}{' ' * (50-done)}] {dl} bytes downloaded\")\n",
        "                sys.stdout.flush()\n",
        "                data = fileres.read(CHUNK_SIZE)\n",
        "            if filename.endswith('.zip'):\n",
        "              with ZipFile(tfile) as zfile:\n",
        "                zfile.extractall(destination_path)\n",
        "            else:\n",
        "              with tarfile.open(tfile.name) as tarfile:\n",
        "                tarfile.extractall(destination_path)\n",
        "            print(f'\\nDownloaded and uncompressed: {directory}')\n",
        "    except HTTPError as e:\n",
        "        print(f'Failed to load (likely expired) {download_url} to path {destination_path}')\n",
        "        continue\n",
        "    except OSError as e:\n",
        "        print(f'Failed to load {download_url} to path {destination_path}')\n",
        "        continue\n",
        "\n",
        "print('Data source import complete.')\n"
      ],
      "metadata": {
        "id": "0EKLeK_kzCDQ",
        "outputId": "14550da1-d208-4eaf-8e87-b00fe435b265",
        "colab": {
          "base_uri": "https://localhost:8080/"
        }
      },
      "cell_type": "code",
      "outputs": [
        {
          "output_type": "stream",
          "name": "stdout",
          "text": [
            "Downloading cifake-real-and-ai-generated-synthetic-images, 109625224 bytes compressed\n",
            "[==================================================] 109625224 bytes downloaded\n",
            "Downloaded and uncompressed: cifake-real-and-ai-generated-synthetic-images\n",
            "Data source import complete.\n"
          ]
        }
      ],
      "execution_count": 1
    },
    {
      "cell_type": "code",
      "source": [
        "from google.colab import drive\n",
        "drive.mount('/content/drive')"
      ],
      "metadata": {
        "colab": {
          "base_uri": "https://localhost:8080/"
        },
        "id": "69fCby-Z7hAj",
        "outputId": "ec147cff-5374-417c-a14f-e8ebbaf55845"
      },
      "execution_count": 2,
      "outputs": [
        {
          "output_type": "stream",
          "name": "stdout",
          "text": [
            "Mounted at /content/drive\n"
          ]
        }
      ]
    },
    {
      "cell_type": "code",
      "source": [
        "# This Python 3 environment comes with many helpful analytics libraries installed\n",
        "# It is defined by the kaggle/python Docker image: https://github.com/kaggle/docker-python\n",
        "# For example, here's several helpful packages to load\n",
        "\n",
        "import numpy as np # linear algebra\n",
        "import pandas as pd # data processing, CSV file I/O (e.g. pd.read_csv)\n",
        "\n",
        "# Input data files are available in the read-only \"../input/\" directory\n",
        "# For example, running this (by clicking run or pressing Shift+Enter) will list all files under the input directory\n",
        "\n",
        "import os\n",
        "for dirname, _, filenames in os.walk('/kaggle/input'):\n",
        "    for filename in filenames:\n",
        "        os.path.join(dirname, filename)\n",
        "\n",
        "# You can write up to 20GB to the current directory (/kaggle/working/) that gets preserved as output when you create a version using \"Save & Run All\"\n",
        "# You can also write temporary files to /kaggle/temp/, but they won't be saved outside of the current session"
      ],
      "metadata": {
        "_uuid": "8f2839f25d086af736a60e9eeb907d3b93b6e0e5",
        "_cell_guid": "b1076dfc-b9ad-4769-8c92-a6c4dae69d19",
        "trusted": true,
        "id": "BsFX1pTDzCDT"
      },
      "execution_count": 3,
      "outputs": []
    },
    {
      "cell_type": "markdown",
      "source": [
        "Fine-tuning CNN - 97.08% made by ACHAL GUPTA 를 참고함   \n",
        "https://www.kaggle.com/code/guptaachal02/fine-tuning-cnn-97-08   \n",
        "Apache Licence 적용을 받음   "
      ],
      "metadata": {
        "id": "oPVCFcgv0RUj"
      }
    },
    {
      "cell_type": "markdown",
      "source": [
        "**데이터 처리**"
      ],
      "metadata": {
        "id": "Pi9EQ_d-p4Ai"
      }
    },
    {
      "cell_type": "code",
      "source": [
        "import numpy as np\n",
        "import matplotlib.pyplot as plt\n",
        "import tensorflow as tf\n",
        "from tensorflow.keras.layers import Dense, Dropout, BatchNormalization\n",
        "from tensorflow.keras import regularizers\n",
        "from IPython.display import Image"
      ],
      "metadata": {
        "id": "ItTYMTP-0Fi_"
      },
      "execution_count": 4,
      "outputs": []
    },
    {
      "cell_type": "markdown",
      "source": [
        "데이터 가져오기"
      ],
      "metadata": {
        "id": "NrDtnPn_3Fyc"
      }
    },
    {
      "cell_type": "code",
      "source": [
        "#dataset_dir1 = \"/content/kaggle/input/ai-generated-images-vs-real-images/\"\n",
        "dataset_dir2 = \"/content/kaggle/input/cifake-real-and-ai-generated-synthetic-images/\" # For Kaggle notebooks. If you run locally, point this line to the CIFAKE directory\n",
        "print(\"Loading dataset from: \" + dataset_dir2)"
      ],
      "metadata": {
        "id": "XrhXqLma2AZw",
        "outputId": "9050264e-8ff6-406a-9237-55c6a2b4ce2a",
        "colab": {
          "base_uri": "https://localhost:8080/"
        }
      },
      "execution_count": 5,
      "outputs": [
        {
          "output_type": "stream",
          "name": "stdout",
          "text": [
            "Loading dataset from: /content/kaggle/input/cifake-real-and-ai-generated-synthetic-images/\n"
          ]
        }
      ]
    },
    {
      "cell_type": "code",
      "source": [
        "print(\"Num GPUs Available: \", len(tf.config.list_physical_devices('GPU')))"
      ],
      "metadata": {
        "id": "CAgW0lk53FQO",
        "outputId": "3488b29e-0826-4fb9-88ac-1da18a448a4a",
        "colab": {
          "base_uri": "https://localhost:8080/"
        }
      },
      "execution_count": 6,
      "outputs": [
        {
          "output_type": "stream",
          "name": "stdout",
          "text": [
            "Num GPUs Available:  1\n"
          ]
        }
      ]
    },
    {
      "cell_type": "code",
      "source": [
        "img_height = 64\n",
        "img_width = 64\n",
        "batch_size = 300\n",
        "#dir1_1 = tf.keras.utils.image_dataset_from_directory(\n",
        " # dataset_dir1 + \"/AiArtData\",\n",
        " # seed = 512,\n",
        " # image_size = (img_height, img_width),\n",
        " # batch_size = batch_size)\n",
        "\n",
        "#dir1_2 = tf.keras.utils.image_dataset_from_directory(\n",
        " # dataset_dir1 + \"/RealArt\",\n",
        " # seed = 512,\n",
        " # image_size = (img_height, img_width),\n",
        " # batch_size = batch_size)\n",
        "\n",
        "\n",
        "def set_labels_to_value(image, label):\n",
        "    new_label = tf.fill(tf.shape(label), 1)  # 예시: 모든 라벨 값을 1로 설정\n",
        "    return image, new_label\n",
        "# 데이터셋에 변환 함수 적용\n",
        "#dir1_2 = dir1_2.map(set_labels_to_value)\n",
        "\n",
        "\n",
        "dir2_1 = tf.keras.utils.image_dataset_from_directory(\n",
        "  dataset_dir2 + \"/train\",\n",
        "  seed = 512,\n",
        "  image_size = (img_height, img_width),\n",
        "  batch_size = batch_size)\n",
        "\n",
        "dir2_2 = tf.keras.utils.image_dataset_from_directory(\n",
        "  dataset_dir2 + \"/test\",\n",
        "  seed = 512,\n",
        "  image_size = (img_height, img_width),\n",
        "  batch_size = batch_size)\n",
        "\n",
        "\n",
        "#for i, l in dir1_1.take(5):\n",
        "#  print(\"label:\",l)\n",
        "#dir1_dataset = dir1_1.concatenate(dir1_2)\n",
        "#print(len(dir1_dataset))\n",
        "#dir2_dataset = dir2_1.concatenate(dir2_2)\n",
        "#final_dataset = dir1_dataset.concatenate(dir2_dataset)\n",
        "final_dataset = dir2_1.concatenate(dir2_2)\n",
        "\n",
        "\n"
      ],
      "metadata": {
        "colab": {
          "base_uri": "https://localhost:8080/"
        },
        "id": "btI9ksxs4VHa",
        "outputId": "7807438e-df98-45b4-91be-3f8bdaf3b95d"
      },
      "execution_count": 7,
      "outputs": [
        {
          "output_type": "stream",
          "name": "stdout",
          "text": [
            "Found 100000 files belonging to 2 classes.\n",
            "Found 20000 files belonging to 2 classes.\n"
          ]
        }
      ]
    },
    {
      "cell_type": "code",
      "source": [
        "\n",
        "for i, l in dir2_2.take(5):\n",
        "  print(\"label:\",l)"
      ],
      "metadata": {
        "colab": {
          "base_uri": "https://localhost:8080/"
        },
        "id": "fbWFYV-98pf9",
        "outputId": "5aeec3d9-cd89-4d35-fd5e-a930c3eab8ed"
      },
      "execution_count": 8,
      "outputs": [
        {
          "output_type": "stream",
          "name": "stdout",
          "text": [
            "label: tf.Tensor(\n",
            "[0 0 0 1 0 1 0 0 1 1 1 1 1 1 0 0 1 0 1 0 0 1 1 0 1 1 1 0 0 0 1 1 0 0 0 1 0\n",
            " 0 1 1 0 0 0 0 1 1 0 0 0 0 1 1 1 1 1 1 0 1 1 1 1 1 1 0 0 0 0 1 1 1 0 0 1 1\n",
            " 1 1 0 0 0 1 1 1 1 0 0 0 1 0 0 0 1 1 1 0 1 0 0 1 1 0 0 0 0 1 0 0 1 1 1 0 1\n",
            " 0 1 1 1 1 1 1 0 0 1 0 1 0 0 0 0 0 1 0 1 0 1 1 1 1 0 0 0 1 0 1 0 0 1 1 1 0\n",
            " 0 0 1 1 0 0 0 1 1 1 1 0 0 1 1 0 0 1 1 0 0 0 0 1 1 0 0 0 0 1 0 0 1 0 0 0 0\n",
            " 0 1 1 1 1 1 1 1 0 1 0 1 0 0 1 1 0 0 0 1 1 0 1 0 1 1 1 1 1 1 0 1 1 1 1 0 1\n",
            " 1 0 1 0 0 1 1 0 0 0 0 0 0 1 0 1 1 0 1 0 1 0 1 0 0 0 0 0 1 0 0 0 1 0 1 1 1\n",
            " 0 1 0 1 1 1 1 0 0 0 1 0 0 0 0 1 0 1 0 0 1 1 0 1 0 1 0 1 0 1 0 1 0 1 0 0 1\n",
            " 0 0 0 1], shape=(300,), dtype=int32)\n",
            "label: tf.Tensor(\n",
            "[0 0 0 1 0 1 1 1 0 1 1 0 0 0 0 0 1 0 0 1 0 1 1 1 0 1 1 1 0 1 1 0 0 0 0 1 1\n",
            " 1 0 1 0 1 1 1 1 0 0 1 0 1 0 0 0 1 0 1 0 0 1 0 1 0 1 1 1 1 1 0 0 0 0 1 1 0\n",
            " 0 0 1 0 0 0 1 0 1 0 1 1 0 1 0 1 0 0 1 0 1 1 0 1 1 1 1 0 1 1 0 1 0 0 0 0 1\n",
            " 0 0 1 1 0 0 1 0 0 1 1 1 1 1 1 0 1 0 1 0 1 0 1 1 1 1 0 1 1 1 0 1 0 1 1 0 0\n",
            " 1 1 1 1 0 0 1 0 1 0 0 1 0 1 0 0 1 0 1 1 0 0 0 1 1 1 1 1 1 1 0 1 0 1 0 1 0\n",
            " 1 1 1 0 0 0 1 0 0 0 0 0 1 0 0 1 1 1 1 0 1 0 1 0 1 1 0 1 0 0 1 1 0 0 0 1 1\n",
            " 1 1 1 0 0 1 0 1 1 0 1 0 1 1 0 0 1 0 0 0 0 0 0 0 1 0 1 0 0 0 0 0 1 0 0 1 0\n",
            " 0 0 0 1 0 0 1 1 0 0 0 0 0 0 1 1 1 0 1 0 0 0 1 0 0 0 1 0 0 0 1 1 0 1 1 0 0\n",
            " 1 0 0 0], shape=(300,), dtype=int32)\n",
            "label: tf.Tensor(\n",
            "[0 1 0 0 1 1 0 0 0 0 1 1 0 0 0 0 0 0 1 0 0 1 0 0 0 1 1 1 0 0 0 0 0 0 0 1 0\n",
            " 1 1 0 1 1 1 1 0 1 0 1 0 0 1 1 1 1 0 1 0 1 1 0 1 0 0 0 0 1 0 0 0 0 1 0 1 0\n",
            " 1 1 1 0 0 1 1 1 0 1 0 0 1 0 0 1 0 1 1 1 1 0 0 0 1 0 0 1 1 1 1 0 1 1 1 1 0\n",
            " 1 0 0 1 0 1 1 1 1 1 1 1 0 1 0 1 0 0 1 1 1 0 0 1 1 1 0 1 1 1 1 0 0 1 1 0 1\n",
            " 0 0 1 1 0 1 0 1 1 1 1 1 0 0 1 0 0 0 0 0 1 0 0 1 0 1 0 0 1 1 1 0 0 0 0 1 0\n",
            " 1 0 0 1 0 0 1 0 1 0 1 0 0 0 0 0 1 1 1 1 1 1 1 1 0 1 0 0 1 1 0 1 0 1 0 0 1\n",
            " 0 1 0 0 0 0 1 1 1 0 1 0 1 1 0 1 1 1 1 1 1 1 0 1 0 0 0 1 1 0 1 0 1 0 1 1 1\n",
            " 0 0 1 1 1 1 0 0 0 0 0 1 0 1 0 1 0 1 1 0 0 0 1 0 1 0 1 1 0 1 0 0 0 0 1 1 0\n",
            " 1 0 0 1], shape=(300,), dtype=int32)\n",
            "label: tf.Tensor(\n",
            "[1 1 1 1 0 1 0 1 1 0 1 0 0 0 0 1 1 1 0 1 1 0 0 1 0 1 0 1 1 0 1 1 1 0 1 0 1\n",
            " 1 0 0 0 1 0 1 1 1 0 0 0 1 0 1 0 1 1 0 1 0 1 1 1 1 1 1 0 1 1 0 1 1 0 0 1 0\n",
            " 1 1 0 0 1 1 1 1 1 1 1 1 0 1 1 0 1 0 0 1 1 0 1 0 0 0 0 1 1 0 1 1 1 1 1 0 1\n",
            " 1 0 0 1 0 1 0 0 0 1 1 0 1 0 1 0 0 0 0 0 0 1 0 0 0 1 0 1 0 1 0 1 0 0 0 1 1\n",
            " 1 1 0 1 0 0 0 0 0 1 1 1 0 1 0 1 1 1 0 0 1 0 1 1 0 1 1 0 0 0 0 1 1 0 1 0 1\n",
            " 1 1 0 0 1 0 1 0 0 1 1 0 0 0 1 0 1 1 1 0 0 0 0 0 0 1 1 1 0 1 0 0 1 0 1 1 0\n",
            " 1 1 1 1 1 1 0 1 1 0 1 0 0 1 0 0 1 1 1 0 0 0 1 0 1 0 1 0 1 0 1 1 0 1 1 0 0\n",
            " 0 0 0 1 1 0 0 0 1 0 0 1 1 1 1 1 1 1 0 0 1 0 0 0 1 0 0 0 1 0 0 1 0 1 0 0 1\n",
            " 0 1 0 1], shape=(300,), dtype=int32)\n",
            "label: tf.Tensor(\n",
            "[1 1 0 1 0 0 1 1 1 0 1 1 1 1 0 1 0 0 1 1 1 0 0 0 1 1 1 1 1 0 1 1 1 0 0 0 1\n",
            " 0 0 0 0 1 1 0 0 1 1 0 0 0 1 0 1 0 1 1 0 1 0 1 1 0 1 1 0 0 0 0 0 0 0 1 1 1\n",
            " 1 0 0 1 1 0 0 0 1 0 0 1 1 0 0 1 0 0 1 0 1 0 1 0 0 0 0 1 0 0 1 1 0 0 0 0 1\n",
            " 0 1 0 0 1 1 0 1 0 1 1 1 0 1 1 1 1 0 0 0 0 0 0 0 0 1 0 1 0 0 0 0 0 0 1 1 1\n",
            " 0 0 0 1 1 0 1 0 0 0 0 0 0 0 0 1 1 1 0 1 0 1 1 1 0 1 1 0 1 1 0 1 0 0 0 1 1\n",
            " 0 1 1 1 1 1 0 0 1 0 1 0 0 0 0 0 1 0 1 1 1 0 1 0 0 0 1 0 1 1 1 0 1 1 1 1 1\n",
            " 1 0 1 0 0 1 1 0 1 1 0 0 0 1 1 0 1 1 0 1 1 0 1 1 1 1 0 0 1 1 0 1 0 0 1 1 0\n",
            " 0 1 1 1 0 0 0 1 1 0 1 0 1 1 0 0 0 1 0 1 0 0 1 1 1 0 0 0 1 1 0 0 1 1 0 0 0\n",
            " 0 1 1 1], shape=(300,), dtype=int32)\n"
          ]
        }
      ]
    },
    {
      "cell_type": "code",
      "source": [
        "final_shuffled_dataset = final_dataset.shuffle(buffer_size=len(final_dataset), seed=400) #데이터셋 섞기"
      ],
      "metadata": {
        "id": "yzugNf-k9s6Q"
      },
      "execution_count": 9,
      "outputs": []
    },
    {
      "cell_type": "code",
      "source": [
        "len(final_shuffled_dataset)"
      ],
      "metadata": {
        "colab": {
          "base_uri": "https://localhost:8080/"
        },
        "id": "0RbY_C-P-Qay",
        "outputId": "473e58bf-3b29-4007-b596-489c5d16ee39"
      },
      "execution_count": 10,
      "outputs": [
        {
          "output_type": "execute_result",
          "data": {
            "text/plain": [
              "401"
            ]
          },
          "metadata": {},
          "execution_count": 10
        }
      ]
    },
    {
      "cell_type": "code",
      "source": [
        "dataset_size = len(final_dataset)\n",
        "train_validation_size = int(dataset_size * 0.8) #train과 test사이즈를 80%\n",
        "test_size = dataset_size - train_validation_size\n",
        "train_validation_dataset = final_shuffled_dataset.take(train_validation_size)\n",
        "test_dataset = final_shuffled_dataset.skip(train_validation_size)\n",
        "\n",
        "\n",
        "train_size = int(train_validation_size * 0.8) #train 데이터셋 사이즈를 90%\n",
        "validation_size = train_validation_size - train_size\n",
        "train_dataset = train_validation_dataset.take(train_size)\n",
        "validation_dataset = train_validation_dataset.skip(train_size)\n",
        "\n",
        "\n",
        "print(\"train_dataset size:\",len(train_dataset))\n",
        "print(\"validation_dataset size:\",len(validation_dataset))\n",
        "print(\"test_dataset size\",len(test_dataset))\n"
      ],
      "metadata": {
        "colab": {
          "base_uri": "https://localhost:8080/"
        },
        "id": "HGp0KLMu88-0",
        "outputId": "50bbc149-6faa-411a-bf5b-ee41d5f5361e"
      },
      "execution_count": 11,
      "outputs": [
        {
          "output_type": "stream",
          "name": "stdout",
          "text": [
            "train_dataset size: 256\n",
            "validation_dataset size: 64\n",
            "test_dataset size 81\n"
          ]
        }
      ]
    },
    {
      "cell_type": "markdown",
      "source": [
        "**ResNet 모델로 Transfer Learning**"
      ],
      "metadata": {
        "id": "yncxYiKFqBcW"
      }
    },
    {
      "cell_type": "code",
      "source": [
        "# Building the Transfer Learning model using ResNet50\n",
        "ResNet_base_model = tf.keras.applications.ResNet50(\n",
        "    include_top = False,\n",
        "    weights = 'imagenet',\n",
        "    input_shape = (img_height, img_width, 3),\n",
        "    pooling = 'max'\n",
        ")\n",
        "ResNet_base_model.trainable = True\n",
        "\n",
        "# Create a new model on top of the ResNet50 base\n",
        "inputs = tf.keras.Input(shape = (img_height, img_width, 3))\n",
        "x = ResNet_base_model(inputs, training = False)\n",
        "x = BatchNormalization(axis = -1, momentum = 0.99, epsilon = 0.001)(x)\n",
        "x = Dense(128,\n",
        "          kernel_regularizer = regularizers.l2(0.01),\n",
        "          activity_regularizer = regularizers.l1(0.01),\n",
        "          bias_regularizer = regularizers.l1(0.01),\n",
        "          activation = 'relu')(x)\n",
        "x = Dropout(rate = .4, seed = 512)(x)\n",
        "x = Dense(64, activation = 'relu')(x)\n",
        "outputs = Dense(1, activation = 'sigmoid')(x)\n",
        "ResNet_model = tf.keras.Model(inputs, outputs)\n",
        "\n",
        "# Compile the model\n",
        "ResNet_model.compile(\n",
        "    optimizer = tf.keras.optimizers.Adamax(learning_rate = .001),\n",
        "    loss = tf.keras.losses.BinaryCrossentropy(),\n",
        "    metrics = ['accuracy', tf.keras.metrics.Precision(), tf.keras.metrics.Recall()]\n",
        ")\n",
        "\n",
        "# Summary of the model\n",
        "ResNet_model.summary()"
      ],
      "metadata": {
        "colab": {
          "base_uri": "https://localhost:8080/"
        },
        "id": "Yuk75OcEGQv5",
        "outputId": "ebbbaa53-fd55-4453-c88c-1a1a582a9a5a"
      },
      "execution_count": 12,
      "outputs": [
        {
          "output_type": "stream",
          "name": "stdout",
          "text": [
            "Downloading data from https://storage.googleapis.com/tensorflow/keras-applications/resnet/resnet50_weights_tf_dim_ordering_tf_kernels_notop.h5\n",
            "94765736/94765736 [==============================] - 0s 0us/step\n",
            "Model: \"model\"\n",
            "_________________________________________________________________\n",
            " Layer (type)                Output Shape              Param #   \n",
            "=================================================================\n",
            " input_2 (InputLayer)        [(None, 64, 64, 3)]       0         \n",
            "                                                                 \n",
            " resnet50 (Functional)       (None, 2048)              23587712  \n",
            "                                                                 \n",
            " batch_normalization (Batch  (None, 2048)              8192      \n",
            " Normalization)                                                  \n",
            "                                                                 \n",
            " dense (Dense)               (None, 128)               262272    \n",
            "                                                                 \n",
            " dropout (Dropout)           (None, 128)               0         \n",
            "                                                                 \n",
            " dense_1 (Dense)             (None, 64)                8256      \n",
            "                                                                 \n",
            " dense_2 (Dense)             (None, 1)                 65        \n",
            "                                                                 \n",
            "=================================================================\n",
            "Total params: 23866497 (91.04 MB)\n",
            "Trainable params: 23809281 (90.83 MB)\n",
            "Non-trainable params: 57216 (223.50 KB)\n",
            "_________________________________________________________________\n"
          ]
        }
      ]
    },
    {
      "cell_type": "code",
      "source": [
        "early_stopping = tf.keras.callbacks.EarlyStopping(monitor = 'val_loss', patience = 10, restore_best_weights = True)"
      ],
      "metadata": {
        "id": "JfSGY1g2HMnB"
      },
      "execution_count": 13,
      "outputs": []
    },
    {
      "cell_type": "code",
      "source": [
        "# Visualize the ResNet model architecture\n",
        "tf.keras.utils.plot_model(ResNet_model, show_shapes = True, to_file = 'ResNet_model.png')\n",
        "Image('ResNet_model.png')"
      ],
      "metadata": {
        "colab": {
          "base_uri": "https://localhost:8080/",
          "height": 754
        },
        "id": "NXHhGZ-sGwqY",
        "outputId": "884c44fc-4eba-40a8-9e06-5c104b9380ea"
      },
      "execution_count": 14,
      "outputs": [
        {
          "output_type": "execute_result",
          "data": {
            "image/png": "[encoded data removed]",
            "text/plain": [
              "<IPython.core.display.Image object>"
            ]
          },
          "metadata": {},
          "execution_count": 14
        }
      ]
    },
    {
      "cell_type": "code",
      "source": [
        "# Train the Transfer Learning model\n",
        "print(\"Starting training with Transfer Learning using ResNet50...\")\n",
        "ResNet_model_history = ResNet_model.fit(\n",
        "    train_dataset,\n",
        "    validation_data = validation_dataset,\n",
        "    epochs = 40,\n",
        "    verbose = 1,\n",
        "    callbacks = [early_stopping]\n",
        ")\n",
        "print(\"Transfer Learning training finished.\")"
      ],
      "metadata": {
        "colab": {
          "base_uri": "https://localhost:8080/"
        },
        "id": "NLDeZ3OHGyYd",
        "outputId": "5802292a-7510-4586-8c7b-23a09b4961c8"
      },
      "execution_count": 15,
      "outputs": [
        {
          "output_type": "stream",
          "name": "stdout",
          "text": [
            "Starting training with Transfer Learning using ResNet50...\n",
            "Epoch 1/40\n",
            "256/256 [==============================] - 87s 186ms/step - loss: 1.4361 - accuracy: 0.9066 - precision: 0.9039 - recall: 0.9101 - val_loss: 3.0589 - val_accuracy: 0.5132 - val_precision: 1.0000 - val_recall: 0.0306\n",
            "Epoch 2/40\n",
            "256/256 [==============================] - 45s 166ms/step - loss: 0.4500 - accuracy: 0.9413 - precision: 0.9439 - recall: 0.9381 - val_loss: 1.4162 - val_accuracy: 0.6033 - val_precision: 0.9995 - val_recall: 0.1997\n",
            "Epoch 3/40\n",
            "256/256 [==============================] - 46s 170ms/step - loss: 0.2513 - accuracy: 0.9489 - precision: 0.9528 - recall: 0.9442 - val_loss: 0.2512 - val_accuracy: 0.9359 - val_precision: 0.9831 - val_recall: 0.8867\n",
            "Epoch 4/40\n",
            "256/256 [==============================] - 43s 159ms/step - loss: 0.1939 - accuracy: 0.9531 - precision: 0.9585 - recall: 0.9470 - val_loss: 0.2158 - val_accuracy: 0.9412 - val_precision: 0.9698 - val_recall: 0.9108\n",
            "Epoch 5/40\n",
            "256/256 [==============================] - 43s 160ms/step - loss: 0.1697 - accuracy: 0.9574 - precision: 0.9632 - recall: 0.9514 - val_loss: 0.1859 - val_accuracy: 0.9505 - val_precision: 0.9187 - val_recall: 0.9879\n",
            "Epoch 6/40\n",
            "256/256 [==============================] - 43s 159ms/step - loss: 0.1546 - accuracy: 0.9612 - precision: 0.9655 - recall: 0.9568 - val_loss: 0.2068 - val_accuracy: 0.9494 - val_precision: 0.9897 - val_recall: 0.9082\n",
            "Epoch 7/40\n",
            "256/256 [==============================] - 43s 159ms/step - loss: 0.1395 - accuracy: 0.9632 - precision: 0.9691 - recall: 0.9568 - val_loss: 0.3742 - val_accuracy: 0.9032 - val_precision: 0.9970 - val_recall: 0.8079\n",
            "Epoch 8/40\n",
            "256/256 [==============================] - 43s 159ms/step - loss: 0.1322 - accuracy: 0.9664 - precision: 0.9702 - recall: 0.9622 - val_loss: 879.6561 - val_accuracy: 0.4999 - val_precision: 0.0000e+00 - val_recall: 0.0000e+00\n",
            "Epoch 9/40\n",
            "256/256 [==============================] - 43s 160ms/step - loss: 0.1178 - accuracy: 0.9696 - precision: 0.9732 - recall: 0.9657 - val_loss: 0.1081 - val_accuracy: 0.9784 - val_precision: 0.9811 - val_recall: 0.9750\n",
            "Epoch 10/40\n",
            "256/256 [==============================] - 43s 159ms/step - loss: 0.1057 - accuracy: 0.9736 - precision: 0.9753 - recall: 0.9716 - val_loss: 0.1489 - val_accuracy: 0.9437 - val_precision: 0.9978 - val_recall: 0.8894\n",
            "Epoch 11/40\n",
            "256/256 [==============================] - 43s 159ms/step - loss: 0.1011 - accuracy: 0.9753 - precision: 0.9746 - recall: 0.9759 - val_loss: 0.1214 - val_accuracy: 0.9575 - val_precision: 0.9889 - val_recall: 0.9251\n",
            "Epoch 12/40\n",
            "256/256 [==============================] - 43s 159ms/step - loss: 0.0972 - accuracy: 0.9765 - precision: 0.9764 - recall: 0.9765 - val_loss: 0.4257 - val_accuracy: 0.9002 - val_precision: 0.9992 - val_recall: 0.8007\n",
            "Epoch 13/40\n",
            "256/256 [==============================] - 43s 160ms/step - loss: 0.0897 - accuracy: 0.9787 - precision: 0.9782 - recall: 0.9793 - val_loss: 0.0950 - val_accuracy: 0.9804 - val_precision: 0.9947 - val_recall: 0.9659\n",
            "Epoch 14/40\n",
            "256/256 [==============================] - 43s 159ms/step - loss: 0.0823 - accuracy: 0.9808 - precision: 0.9793 - recall: 0.9824 - val_loss: 28728.7773 - val_accuracy: 0.4967 - val_precision: 0.4967 - val_recall: 1.0000\n",
            "Epoch 15/40\n",
            "256/256 [==============================] - 43s 159ms/step - loss: 0.0812 - accuracy: 0.9811 - precision: 0.9801 - recall: 0.9822 - val_loss: 5.4470 - val_accuracy: 0.6156 - val_precision: 1.0000 - val_recall: 0.2285\n",
            "Epoch 16/40\n",
            "256/256 [==============================] - 43s 159ms/step - loss: 0.0744 - accuracy: 0.9837 - precision: 0.9824 - recall: 0.9850 - val_loss: 0.1189 - val_accuracy: 0.9653 - val_precision: 0.9942 - val_recall: 0.9364\n",
            "Epoch 17/40\n",
            "256/256 [==============================] - 43s 160ms/step - loss: 0.0723 - accuracy: 0.9839 - precision: 0.9814 - recall: 0.9864 - val_loss: 0.0595 - val_accuracy: 0.9859 - val_precision: 0.9885 - val_recall: 0.9831\n",
            "Epoch 18/40\n",
            "256/256 [==============================] - 43s 160ms/step - loss: 0.0643 - accuracy: 0.9862 - precision: 0.9839 - recall: 0.9886 - val_loss: 0.0490 - val_accuracy: 0.9889 - val_precision: 0.9948 - val_recall: 0.9828\n",
            "Epoch 19/40\n",
            "256/256 [==============================] - 43s 160ms/step - loss: 0.0622 - accuracy: 0.9860 - precision: 0.9835 - recall: 0.9886 - val_loss: 0.2808 - val_accuracy: 0.9283 - val_precision: 0.9998 - val_recall: 0.8586\n",
            "Epoch 20/40\n",
            "256/256 [==============================] - 43s 159ms/step - loss: 0.0573 - accuracy: 0.9881 - precision: 0.9867 - recall: 0.9894 - val_loss: 0.1019 - val_accuracy: 0.9717 - val_precision: 0.9472 - val_recall: 0.9988\n",
            "Epoch 21/40\n",
            "256/256 [==============================] - 43s 160ms/step - loss: 0.0511 - accuracy: 0.9901 - precision: 0.9888 - recall: 0.9913 - val_loss: 0.6548 - val_accuracy: 0.8651 - val_precision: 1.0000 - val_recall: 0.7298\n",
            "Epoch 22/40\n",
            "256/256 [==============================] - 43s 160ms/step - loss: 0.0550 - accuracy: 0.9878 - precision: 0.9846 - recall: 0.9911 - val_loss: 0.2989 - val_accuracy: 0.9303 - val_precision: 0.9999 - val_recall: 0.8605\n",
            "Epoch 23/40\n",
            "256/256 [==============================] - 43s 160ms/step - loss: 0.0521 - accuracy: 0.9899 - precision: 0.9882 - recall: 0.9917 - val_loss: 0.2465 - val_accuracy: 0.9291 - val_precision: 0.9998 - val_recall: 0.8582\n",
            "Epoch 24/40\n",
            "256/256 [==============================] - 43s 159ms/step - loss: 0.0510 - accuracy: 0.9898 - precision: 0.9872 - recall: 0.9925 - val_loss: 0.3876 - val_accuracy: 0.9083 - val_precision: 1.0000 - val_recall: 0.8151\n",
            "Epoch 25/40\n",
            "256/256 [==============================] - 43s 160ms/step - loss: 0.0420 - accuracy: 0.9917 - precision: 0.9906 - recall: 0.9928 - val_loss: 0.5300 - val_accuracy: 0.8433 - val_precision: 1.0000 - val_recall: 0.6874\n",
            "Epoch 26/40\n",
            "256/256 [==============================] - 43s 160ms/step - loss: 0.0416 - accuracy: 0.9918 - precision: 0.9911 - recall: 0.9925 - val_loss: 0.3983 - val_accuracy: 0.8840 - val_precision: 1.0000 - val_recall: 0.7665\n",
            "Epoch 27/40\n",
            "256/256 [==============================] - 43s 160ms/step - loss: 0.0413 - accuracy: 0.9924 - precision: 0.9916 - recall: 0.9933 - val_loss: 0.0293 - val_accuracy: 0.9945 - val_precision: 0.9924 - val_recall: 0.9965\n",
            "Epoch 28/40\n",
            "256/256 [==============================] - 43s 159ms/step - loss: 0.0417 - accuracy: 0.9920 - precision: 0.9906 - recall: 0.9935 - val_loss: 0.1782 - val_accuracy: 0.9584 - val_precision: 1.0000 - val_recall: 0.9168\n",
            "Epoch 29/40\n",
            "256/256 [==============================] - 43s 160ms/step - loss: 0.0379 - accuracy: 0.9931 - precision: 0.9938 - recall: 0.9925 - val_loss: 0.0280 - val_accuracy: 0.9951 - val_precision: 0.9987 - val_recall: 0.9914\n",
            "Epoch 30/40\n",
            "256/256 [==============================] - 43s 160ms/step - loss: 0.0385 - accuracy: 0.9934 - precision: 0.9940 - recall: 0.9928 - val_loss: 0.0708 - val_accuracy: 0.9813 - val_precision: 0.9999 - val_recall: 0.9629\n",
            "Epoch 31/40\n",
            "256/256 [==============================] - 43s 160ms/step - loss: 0.0355 - accuracy: 0.9944 - precision: 0.9951 - recall: 0.9938 - val_loss: 0.1263 - val_accuracy: 0.9704 - val_precision: 0.9438 - val_recall: 1.0000\n",
            "Epoch 32/40\n",
            "256/256 [==============================] - 43s 160ms/step - loss: 0.0334 - accuracy: 0.9944 - precision: 0.9951 - recall: 0.9937 - val_loss: 0.2242 - val_accuracy: 0.9281 - val_precision: 1.0000 - val_recall: 0.8558\n",
            "Epoch 33/40\n",
            "256/256 [==============================] - 43s 159ms/step - loss: 0.0339 - accuracy: 0.9947 - precision: 0.9957 - recall: 0.9936 - val_loss: 1.7247 - val_accuracy: 0.6192 - val_precision: 0.5695 - val_recall: 1.0000\n",
            "Epoch 34/40\n",
            "256/256 [==============================] - 43s 159ms/step - loss: 0.0368 - accuracy: 0.9938 - precision: 0.9948 - recall: 0.9927 - val_loss: 0.0317 - val_accuracy: 0.9929 - val_precision: 0.9987 - val_recall: 0.9869\n",
            "Epoch 35/40\n",
            "256/256 [==============================] - 43s 159ms/step - loss: 0.0313 - accuracy: 0.9951 - precision: 0.9959 - recall: 0.9943 - val_loss: 0.0332 - val_accuracy: 0.9917 - val_precision: 0.9843 - val_recall: 0.9994\n",
            "Epoch 36/40\n",
            "256/256 [==============================] - 43s 159ms/step - loss: 0.0290 - accuracy: 0.9957 - precision: 0.9960 - recall: 0.9954 - val_loss: 0.2459 - val_accuracy: 0.9427 - val_precision: 1.0000 - val_recall: 0.8863\n",
            "Epoch 37/40\n",
            "256/256 [==============================] - 43s 159ms/step - loss: 0.0332 - accuracy: 0.9944 - precision: 0.9955 - recall: 0.9933 - val_loss: 0.0313 - val_accuracy: 0.9956 - val_precision: 0.9987 - val_recall: 0.9925\n",
            "Epoch 38/40\n",
            "256/256 [==============================] - 44s 160ms/step - loss: 0.0285 - accuracy: 0.9956 - precision: 0.9958 - recall: 0.9954 - val_loss: 0.6790 - val_accuracy: 0.8763 - val_precision: 1.0000 - val_recall: 0.7536\n",
            "Epoch 39/40\n",
            "256/256 [==============================] - 43s 160ms/step - loss: 0.0266 - accuracy: 0.9959 - precision: 0.9955 - recall: 0.9962 - val_loss: 0.0366 - val_accuracy: 0.9910 - val_precision: 1.0000 - val_recall: 0.9821\n",
            "Transfer Learning training finished.\n"
          ]
        }
      ]
    },
    {
      "cell_type": "code",
      "source": [
        "# Evaluate the model on the vaildation dataset\n",
        "val_loss, val_accuracy, val_precision, val_recall = ResNet_model.evaluate(validation_dataset)\n",
        "\n",
        "# Print the metrics\n",
        "print(f\"Val Loss: {val_loss:.4f}\")\n",
        "print(f\"Val Accuracy: {val_accuracy:.4f}\")\n",
        "print(f\"Val Precision: {val_precision:.4f}\")\n",
        "print(f\"Val Recall: {val_recall:.4f}\")"
      ],
      "metadata": {
        "id": "OBgOYcz3JOXs",
        "colab": {
          "base_uri": "https://localhost:8080/"
        },
        "outputId": "052d5d38-3848-40d9-bb6a-5e2f1d73893b"
      },
      "execution_count": 16,
      "outputs": [
        {
          "output_type": "stream",
          "name": "stdout",
          "text": [
            "64/64 [==============================] - 5s 41ms/step - loss: 0.0297 - accuracy: 0.9951 - precision: 0.9985 - recall: 0.9916\n",
            "Val Loss: 0.0297\n",
            "Val Accuracy: 0.9951\n",
            "Val Precision: 0.9985\n",
            "Val Recall: 0.9916\n"
          ]
        }
      ]
    },
    {
      "cell_type": "code",
      "source": [
        "# 데스트 데이터 셋\n",
        "test_loss, test_accuracy, test_precision, test_recall = ResNet_model.evaluate(test_dataset)\n",
        "\n",
        "print(f\"test Loss: {test_loss:.4f}\")\n",
        "print(f\"test Accuracy: {test_accuracy:.4f}\")\n",
        "print(f\"test Precision: {test_precision:.4f}\")\n",
        "print(f\"test Recall: {test_recall:.4f}\")"
      ],
      "metadata": {
        "id": "9TUhP32t_Yfa",
        "colab": {
          "base_uri": "https://localhost:8080/"
        },
        "outputId": "e18f3f4a-f853-4b1e-f476-c58a57484a5a"
      },
      "execution_count": 17,
      "outputs": [
        {
          "output_type": "stream",
          "name": "stdout",
          "text": [
            "81/81 [==============================] - 6s 41ms/step - loss: 0.0279 - accuracy: 0.9954 - precision: 0.9993 - recall: 0.9915\n",
            "test Loss: 0.0279\n",
            "test Accuracy: 0.9954\n",
            "test Precision: 0.9993\n",
            "test Recall: 0.9915\n"
          ]
        }
      ]
    },
    {
      "cell_type": "code",
      "source": [
        "#모델 저장\n",
        "ResNet_model.save('ResNet_c_model.h5')\n",
        "model_json = ResNet_model.to_json()\n",
        "with open('ResNet_model.json','w') as f:\n",
        "  f.write(model_json)"
      ],
      "metadata": {
        "id": "FMm4LE7ol6mE",
        "colab": {
          "base_uri": "https://localhost:8080/"
        },
        "outputId": "58821131-e9fb-4731-fd9c-bf2aa9815e3f"
      },
      "execution_count": 18,
      "outputs": [
        {
          "output_type": "stream",
          "name": "stderr",
          "text": [
            "/usr/local/lib/python3.10/dist-packages/keras/src/engine/training.py:3103: UserWarning: You are saving your model as an HDF5 file via `model.save()`. This file format is considered legacy. We recommend using instead the native Keras format, e.g. `model.save('my_model.keras')`.\n",
            "  saving_api.save_model(\n"
          ]
        }
      ]
    },
    {
      "cell_type": "code",
      "source": [
        "#모델 불러오기\n",
        "ResNet_model = tf.keras.models.load_model('ResNet_c_model.h5')"
      ],
      "metadata": {
        "id": "xlnTv7KWmM-N"
      },
      "execution_count": 19,
      "outputs": []
    },
    {
      "cell_type": "code",
      "source": [
        "import numpy as np\n",
        "import tensorflow as tf\n",
        "from tensorflow.keras.applications import ResNet50\n",
        "from tensorflow.keras.preprocessing import image\n",
        "from tensorflow.keras.applications.resnet50 import preprocess_input, decode_predictions\n",
        "import matplotlib.pyplot as plt\n",
        "\n",
        "# ResNet50 모델 불러오기 (ImageNet 가중치 사용)\n",
        "\n",
        "# 이미지 파일 경로\n",
        "img_path = '/content/drive/MyDrive/images/Real/11.png'  # 여기에 실제 이미지 파일 경로를 입력하세요.\n",
        "\n",
        "\n",
        "\n",
        "# 이미지 로드 및 전처리\n",
        "img = image.load_img(img_path, target_size=(32, 32))\n",
        "x = image.img_to_array(img)\n",
        "x = np.expand_dims(x, axis=0)\n",
        "x = preprocess_input(x)\n",
        "\n",
        "# 예측 수행\n",
        "preds = ResNet_model.predict(x)\n",
        "\n",
        "# 결과 디코딩 및 출력\n",
        "print('Predicted:', preds)\n",
        "\n",
        "# 이미지 출력\n",
        "plt.imshow(img)\n",
        "plt.axis('off')\n",
        "plt.show()"
      ],
      "metadata": {
        "colab": {
          "base_uri": "https://localhost:8080/",
          "height": 347
        },
        "id": "f2FxQ5x5OKQZ",
        "outputId": "217c0199-8b10-4b51-c08b-b3962f093e9e"
      },
      "execution_count": 20,
      "outputs": [
        {
          "output_type": "error",
          "ename": "FileNotFoundError",
          "evalue": "[Errno 2] No such file or directory: '/content/drive/MyDrive/images/Real/11.png'",
          "traceback": [
            "\u001b[0;31m---------------------------------------------------------------------------\u001b[0m",
            "\u001b[0;31mFileNotFoundError\u001b[0m                         Traceback (most recent call last)",
            "\u001b[0;32m<ipython-input-20-07236ee61870>\u001b[0m in \u001b[0;36m<cell line: 16>\u001b[0;34m()\u001b[0m\n\u001b[1;32m     14\u001b[0m \u001b[0;34m\u001b[0m\u001b[0m\n\u001b[1;32m     15\u001b[0m \u001b[0;31m# 이미지 로드 및 전처리\u001b[0m\u001b[0;34m\u001b[0m\u001b[0;34m\u001b[0m\u001b[0m\n\u001b[0;32m---> 16\u001b[0;31m \u001b[0mimg\u001b[0m \u001b[0;34m=\u001b[0m \u001b[0mimage\u001b[0m\u001b[0;34m.\u001b[0m\u001b[0mload_img\u001b[0m\u001b[0;34m(\u001b[0m\u001b[0mimg_path\u001b[0m\u001b[0;34m,\u001b[0m \u001b[0mtarget_size\u001b[0m\u001b[0;34m=\u001b[0m\u001b[0;34m(\u001b[0m\u001b[0;36m32\u001b[0m\u001b[0;34m,\u001b[0m \u001b[0;36m32\u001b[0m\u001b[0;34m)\u001b[0m\u001b[0;34m)\u001b[0m\u001b[0;34m\u001b[0m\u001b[0;34m\u001b[0m\u001b[0m\n\u001b[0m\u001b[1;32m     17\u001b[0m \u001b[0mx\u001b[0m \u001b[0;34m=\u001b[0m \u001b[0mimage\u001b[0m\u001b[0;34m.\u001b[0m\u001b[0mimg_to_array\u001b[0m\u001b[0;34m(\u001b[0m\u001b[0mimg\u001b[0m\u001b[0;34m)\u001b[0m\u001b[0;34m\u001b[0m\u001b[0;34m\u001b[0m\u001b[0m\n\u001b[1;32m     18\u001b[0m \u001b[0mx\u001b[0m \u001b[0;34m=\u001b[0m \u001b[0mnp\u001b[0m\u001b[0;34m.\u001b[0m\u001b[0mexpand_dims\u001b[0m\u001b[0;34m(\u001b[0m\u001b[0mx\u001b[0m\u001b[0;34m,\u001b[0m \u001b[0maxis\u001b[0m\u001b[0;34m=\u001b[0m\u001b[0;36m0\u001b[0m\u001b[0;34m)\u001b[0m\u001b[0;34m\u001b[0m\u001b[0;34m\u001b[0m\u001b[0m\n",
            "\u001b[0;32m/usr/local/lib/python3.10/dist-packages/keras/src/utils/image_utils.py\u001b[0m in \u001b[0;36mload_img\u001b[0;34m(path, grayscale, color_mode, target_size, interpolation, keep_aspect_ratio)\u001b[0m\n\u001b[1;32m    420\u001b[0m         \u001b[0;32mif\u001b[0m \u001b[0misinstance\u001b[0m\u001b[0;34m(\u001b[0m\u001b[0mpath\u001b[0m\u001b[0;34m,\u001b[0m \u001b[0mpathlib\u001b[0m\u001b[0;34m.\u001b[0m\u001b[0mPath\u001b[0m\u001b[0;34m)\u001b[0m\u001b[0;34m:\u001b[0m\u001b[0;34m\u001b[0m\u001b[0;34m\u001b[0m\u001b[0m\n\u001b[1;32m    421\u001b[0m             \u001b[0mpath\u001b[0m \u001b[0;34m=\u001b[0m \u001b[0mstr\u001b[0m\u001b[0;34m(\u001b[0m\u001b[0mpath\u001b[0m\u001b[0;34m.\u001b[0m\u001b[0mresolve\u001b[0m\u001b[0;34m(\u001b[0m\u001b[0;34m)\u001b[0m\u001b[0;34m)\u001b[0m\u001b[0;34m\u001b[0m\u001b[0;34m\u001b[0m\u001b[0m\n\u001b[0;32m--> 422\u001b[0;31m         \u001b[0;32mwith\u001b[0m \u001b[0mopen\u001b[0m\u001b[0;34m(\u001b[0m\u001b[0mpath\u001b[0m\u001b[0;34m,\u001b[0m \u001b[0;34m\"rb\"\u001b[0m\u001b[0;34m)\u001b[0m \u001b[0;32mas\u001b[0m \u001b[0mf\u001b[0m\u001b[0;34m:\u001b[0m\u001b[0;34m\u001b[0m\u001b[0;34m\u001b[0m\u001b[0m\n\u001b[0m\u001b[1;32m    423\u001b[0m             \u001b[0mimg\u001b[0m \u001b[0;34m=\u001b[0m \u001b[0mpil_image\u001b[0m\u001b[0;34m.\u001b[0m\u001b[0mopen\u001b[0m\u001b[0;34m(\u001b[0m\u001b[0mio\u001b[0m\u001b[0;34m.\u001b[0m\u001b[0mBytesIO\u001b[0m\u001b[0;34m(\u001b[0m\u001b[0mf\u001b[0m\u001b[0;34m.\u001b[0m\u001b[0mread\u001b[0m\u001b[0;34m(\u001b[0m\u001b[0;34m)\u001b[0m\u001b[0;34m)\u001b[0m\u001b[0;34m)\u001b[0m\u001b[0;34m\u001b[0m\u001b[0;34m\u001b[0m\u001b[0m\n\u001b[1;32m    424\u001b[0m     \u001b[0;32melse\u001b[0m\u001b[0;34m:\u001b[0m\u001b[0;34m\u001b[0m\u001b[0;34m\u001b[0m\u001b[0m\n",
            "\u001b[0;31mFileNotFoundError\u001b[0m: [Errno 2] No such file or directory: '/content/drive/MyDrive/images/Real/11.png'"
          ]
        }
      ]
    },
    {
      "cell_type": "code",
      "source": [
        "test_loss, test_accuracy, test_precision, test_recall = ResNet_model.evaluate(dir2_1)\n",
        "\n",
        "print(f\"test Loss: {test_loss:.4f}\")\n",
        "print(f\"test Accuracy: {test_accuracy:.4f}\")\n",
        "print(f\"test Precision: {test_precision:.4f}\")\n",
        "print(f\"test Recall: {test_recall:.4f}\")\n"
      ],
      "metadata": {
        "colab": {
          "base_uri": "https://localhost:8080/"
        },
        "id": "IPc1v0u-4Nz7",
        "outputId": "92889f03-6323-433b-8870-d900d2a1ac73"
      },
      "execution_count": 21,
      "outputs": [
        {
          "output_type": "stream",
          "name": "stdout",
          "text": [
            "334/334 [==============================] - 15s 41ms/step - loss: 0.0277 - accuracy: 0.9955 - precision: 0.9989 - recall: 0.9920\n",
            "test Loss: 0.0277\n",
            "test Accuracy: 0.9955\n",
            "test Precision: 0.9989\n",
            "test Recall: 0.9920\n"
          ]
        }
      ]
    },
    {
      "cell_type": "code",
      "source": [
        "result_show(ResNet_model,dir2_1)"
      ],
      "metadata": {
        "colab": {
          "base_uri": "https://localhost:8080/",
          "height": 146
        },
        "id": "HMr6LeZ2APdZ",
        "outputId": "b3cfaec5-8410-4e9e-fc31-b571d948bcff"
      },
      "execution_count": 23,
      "outputs": [
        {
          "output_type": "error",
          "ename": "NameError",
          "evalue": "name 'result_show' is not defined",
          "traceback": [
            "\u001b[0;31m---------------------------------------------------------------------------\u001b[0m",
            "\u001b[0;31mNameError\u001b[0m                                 Traceback (most recent call last)",
            "\u001b[0;32m<ipython-input-23-4b6d3e6bd2c1>\u001b[0m in \u001b[0;36m<cell line: 1>\u001b[0;34m()\u001b[0m\n\u001b[0;32m----> 1\u001b[0;31m \u001b[0mresult_show\u001b[0m\u001b[0;34m(\u001b[0m\u001b[0mResNet_model\u001b[0m\u001b[0;34m,\u001b[0m\u001b[0mdir2_1\u001b[0m\u001b[0;34m)\u001b[0m\u001b[0;34m\u001b[0m\u001b[0;34m\u001b[0m\u001b[0m\n\u001b[0m",
            "\u001b[0;31mNameError\u001b[0m: name 'result_show' is not defined"
          ]
        }
      ]
    },
    {
      "cell_type": "code",
      "source": [
        "#테스ㅌ\n",
        "dir = '/content/drive/MyDrive/이미지 데이터셋 폴더'\n",
        "\n",
        "rt= tf.keras.utils.image_dataset_from_directory(\n",
        "  dir,\n",
        "  seed = 512,\n",
        "  image_size = (img_height, img_width),\n",
        "  batch_size = 10)\n",
        "\n",
        "\n",
        "def result_show(model,test_dataset):\n",
        "  result = model.predict(test_dataset)\n",
        "  cnt = 0\n",
        "  for images ,labels in test_dataset.take(50):\n",
        "    plt.figure(figsize=(10,10))\n",
        "    for i in range(9):\n",
        "      ax = plt.subplot(3,3,i+1)\n",
        "      plt.imshow(images[i].numpy().astype('uint8'))\n",
        "      if int(labels[i]) == 0:\n",
        "        isReal = 'Fake'\n",
        "      else:\n",
        "        isReal = 'Real'\n",
        "\n",
        "      if result[cnt][0] >= 0.5:\n",
        "        a = \"Real\"\n",
        "      else :\n",
        "        a = 'Fake'\n",
        "\n",
        "      plt.title(f\"{isReal} -> {a}\")\n",
        "      cnt +=1\n",
        "      plt.axis(\"off\")\n",
        "    plt.show()\n",
        "  test_loss, test_accuracy, test_precision, test_recall = ResNet_model.evaluate(test_dataset)\n",
        "\n",
        "  print(f\"test Loss: {test_loss:.4f}\")\n",
        "  print(f\"test Accuracy: {test_accuracy:.4f}\")\n",
        "  print(f\"test Precision: {test_precision:.4f}\")\n",
        "  print(f\"test Recall: {test_recall:.4f}\")\n",
        "\n",
        "result_show(ResNet_model,rt)"
      ],
      "metadata": {
        "id": "tkpi25rasdYR"
      },
      "execution_count": null,
      "outputs": []
    },
    {
      "cell_type": "markdown",
      "source": [
        "**VGG16 모델**"
      ],
      "metadata": {
        "id": "u9wqbwqhiHOL"
      }
    },
    {
      "cell_type": "code",
      "source": [
        "# Building the Transfer Learning model using VGG16\n",
        "VGG_base_model = tf.keras.applications.VGG16(\n",
        "    include_top = False,\n",
        "    weights = 'imagenet',\n",
        "    input_shape = (img_height, img_width, 3),\n",
        "    pooling = 'max'\n",
        ")\n",
        "VGG_base_model.trainable = True\n",
        "\n"
      ],
      "metadata": {
        "id": "zeNhE4s2AK0T"
      },
      "execution_count": null,
      "outputs": []
    },
    {
      "cell_type": "code",
      "source": [
        "# Create a new model on top of the VGG16 base\n",
        "inputs = tf.keras.Input(shape = (img_height, img_width, 3))\n",
        "x = VGG_base_model(inputs, training = False)\n",
        "x = BatchNormalization(axis = -1, momentum = 0.99, epsilon = 0.001)(x)\n",
        "x = Dense(256,\n",
        "          kernel_regularizer = regularizers.l2(0.01),\n",
        "          activity_regularizer = regularizers.l1(0.01),\n",
        "          bias_regularizer = regularizers.l1(0.01),\n",
        "          activation = 'relu')(x)\n",
        "x = Dropout(rate = .4, seed = 512)(x)\n",
        "x = Dense(64, activation = 'relu')(x)\n",
        "outputs = Dense(1, activation = 'sigmoid')(x)\n",
        "VGG_model = tf.keras.Model(inputs, outputs)\n"
      ],
      "metadata": {
        "id": "GWG29B8JiEgx"
      },
      "execution_count": null,
      "outputs": []
    },
    {
      "cell_type": "code",
      "source": [
        "# Compile the Transfer Learning model\n",
        "VGG_model.compile(\n",
        "    optimizer = tf.keras.optimizers.Adamax(learning_rate = .001),\n",
        "    loss = tf.keras.losses.BinaryCrossentropy(),\n",
        "    metrics = ['accuracy', tf.keras.metrics.Precision(), tf.keras.metrics.Recall()]\n",
        ")\n",
        "\n",
        "# Build the Transfer Learning model so we can see a summary\n",
        "VGG_model.summary()"
      ],
      "metadata": {
        "id": "CgQ108MBihMZ"
      },
      "execution_count": null,
      "outputs": []
    },
    {
      "cell_type": "code",
      "source": [
        "# Visualize the VGG model architecture\n",
        "tf.keras.utils.plot_model(VGG_model, show_shapes = True, to_file = 'VGG_model.png')\n",
        "Image('VGG_model.png')"
      ],
      "metadata": {
        "id": "AZAbO9WEjEpz"
      },
      "execution_count": null,
      "outputs": []
    },
    {
      "cell_type": "code",
      "source": [
        "print(\"Starting training with Transfer Learning using VGG16...\")\n",
        "VGG_model_history = VGG_model.fit(\n",
        "    train_dataset,\n",
        "    validation_data = validation_dataset,\n",
        "    epochs = 5,\n",
        "    verbose = 1,\n",
        "    callbacks = [early_stopping]\n",
        ")\n",
        "print(\"Transfer Learning training finished.\")"
      ],
      "metadata": {
        "id": "gvhz-mgsk3jk"
      },
      "execution_count": null,
      "outputs": []
    },
    {
      "cell_type": "markdown",
      "source": [
        "validation_dataset으로 검증"
      ],
      "metadata": {
        "id": "R4DndWmwluiO"
      }
    },
    {
      "cell_type": "code",
      "source": [
        "\n",
        "val_loss, val_accuracy, val_precision, val_recall = VGG_model.evaluate(validation_dataset)\n",
        "\n",
        "# Print the metrics\n",
        "print(f\"val Loss: {val_loss:.4f}\")\n",
        "print(f\"Val Accuracy: {val_accuracy:.4f}\")\n",
        "print(f\"Val Precision: {val_precision:.4f}\")\n",
        "print(f\"Val Recall: {val_recall:.4f}\")"
      ],
      "metadata": {
        "id": "TBBb3o8blR_z"
      },
      "execution_count": null,
      "outputs": []
    },
    {
      "cell_type": "markdown",
      "source": [
        "테스트셋으로 검증"
      ],
      "metadata": {
        "id": "bp3-ihVHlzUM"
      }
    },
    {
      "cell_type": "code",
      "source": [
        "# Evaluate the model on the test dataset\n",
        "test_loss, test_accuracy, test_precision, test_recall = VGG_model.evaluate(test_dataset)\n",
        "\n",
        "# Print the metrics\n",
        "print(f\"test Loss: {test_loss:.4f}\")\n",
        "print(f\"test Accuracy: {test_accuracy:.4f}\")\n",
        "print(f\"test Precision: {test_precision:.4f}\")\n",
        "print(f\"test Recall: {test_recall:.4f}\")"
      ],
      "metadata": {
        "id": "5LfC8U-vlr7h"
      },
      "execution_count": null,
      "outputs": []
    },
    {
      "cell_type": "code",
      "source": [
        "result_show(VGG_model,validation_dataset)"
      ],
      "metadata": {
        "id": "uVSVLq4D4csH"
      },
      "execution_count": null,
      "outputs": []
    },
    {
      "cell_type": "markdown",
      "source": [
        "**EfficientNet모델**"
      ],
      "metadata": {
        "id": "hs_ugWbqmXTg"
      }
    },
    {
      "cell_type": "code",
      "source": [
        "# Building the Transfer Learning model using EfficientNetV2B0\n",
        "EfficientNet_base_model = tf.keras.applications.EfficientNetV2B0(\n",
        "    include_top = False,\n",
        "    weights = 'imagenet',\n",
        "    input_shape = (img_height, img_width, 3),\n",
        "    pooling = 'max'\n",
        ")\n",
        "EfficientNet_base_model.trainable = True\n",
        "\n",
        "# Create a new model on top of the EfficientNet base\n",
        "inputs = tf.keras.Input(shape = (img_height, img_width, 3))\n",
        "x = EfficientNet_base_model(inputs, training = False)\n",
        "x = BatchNormalization(axis = -1, momentum = 0.99, epsilon = 0.001)(x)\n",
        "x = Dense(256,\n",
        "          kernel_regularizer = regularizers.l2(0.01),\n",
        "          activity_regularizer = regularizers.l1(0.01),\n",
        "          bias_regularizer = regularizers.l1(0.01),\n",
        "          activation = 'relu')(x)\n",
        "x = Dropout(rate = .4, seed = 512)(x)\n",
        "x = Dense(64, activation = 'relu')(x)\n",
        "outputs = Dense(1, activation = 'sigmoid')(x)\n",
        "EfficientNet_model = tf.keras.Model(inputs, outputs)\n",
        "\n",
        "# Compile the Transfer Learning model\n",
        "EfficientNet_model.compile(\n",
        "    optimizer = tf.keras.optimizers.Adamax(learning_rate = .001),\n",
        "    loss = tf.keras.losses.BinaryCrossentropy(),\n",
        "    metrics = ['accuracy', tf.keras.metrics.Precision(), tf.keras.metrics.Recall()]\n",
        ")\n",
        "\n",
        "# Build the Transfer Learning model so we can see a summary\n",
        "EfficientNet_model.summary()"
      ],
      "metadata": {
        "id": "cGYMCASXlmcN"
      },
      "execution_count": null,
      "outputs": []
    },
    {
      "cell_type": "code",
      "source": [
        "# Visualize the EfficientNet model architecture\n",
        "tf.keras.utils.plot_model(EfficientNet_model, show_shapes = True, to_file = 'EfficientNet_model.png')\n",
        "Image('EfficientNet_model.png')"
      ],
      "metadata": {
        "id": "nrYEL-WZmimf"
      },
      "execution_count": null,
      "outputs": []
    },
    {
      "cell_type": "code",
      "source": [
        "# Finally, train the Transfer Learning model\n",
        "print(\"Starting training with Transfer Learning using EfficientNet...\")\n",
        "EfficientNet_model_history = EfficientNet_model.fit(\n",
        "    train_dataset,\n",
        "    validation_data = validation_dataset,\n",
        "    epochs = 5,\n",
        "    verbose = 1,\n",
        "    callbacks = [early_stopping]\n",
        ")\n",
        "print(\"Transfer Learning training finished.\")"
      ],
      "metadata": {
        "id": "Ih6LYIEsmj8H"
      },
      "execution_count": null,
      "outputs": []
    },
    {
      "cell_type": "code",
      "source": [
        "\n",
        "val_loss, val_accuracy, val_precision, val_recall = EfficientNet_model.evaluate(test_dataset)\n",
        "\n",
        "# Print the metrics\n",
        "print(f\"Val Loss: {val_loss:.4f}\")\n",
        "print(f\"Val Accuracy: {val_accuracy:.4f}\")\n",
        "print(f\"Val Precision: {val_precision:.4f}\")\n",
        "print(f\"Val Recall: {val_recall:.4f}\")"
      ],
      "metadata": {
        "id": "z9iSuUsympLi"
      },
      "execution_count": null,
      "outputs": []
    },
    {
      "cell_type": "code",
      "source": [
        "# Evaluate the model on the test dataset\n",
        "test_loss, test_accuracy, test_precision, test_recall = EfficientNet_model.evaluate(test_dataset)\n",
        "\n",
        "# Print the metrics\n",
        "print(f\"Val Loss: {val_loss:.4f}\")\n",
        "print(f\"Val Accuracy: {val_accuracy:.4f}\")\n",
        "print(f\"Val Precision: {val_precision:.4f}\")\n",
        "print(f\"Val Recall: {val_recall:.4f}\")"
      ],
      "metadata": {
        "id": "FiHGlVQ7mrwn"
      },
      "execution_count": null,
      "outputs": []
    },
    {
      "cell_type": "markdown",
      "source": [
        "**MobileNet 모델로 Transfer Learning**"
      ],
      "metadata": {
        "id": "WPU_NRMknZFE"
      }
    },
    {
      "cell_type": "code",
      "source": [
        "# Building the Transfer Learning model using MobileNetV3\n",
        "MobileNet_base_model = tf.keras.applications.MobileNetV3Small(\n",
        "    include_top = False,\n",
        "    weights = 'imagenet',\n",
        "    input_shape = (img_height, img_width, 3),\n",
        "    pooling = 'max'\n",
        ")\n",
        "MobileNet_base_model.trainable = True"
      ],
      "metadata": {
        "id": "-CQu9Q3pnaNI"
      },
      "execution_count": null,
      "outputs": []
    },
    {
      "cell_type": "code",
      "source": [
        "# Create a new model on top of the MobileNet base\n",
        "inputs = tf.keras.Input(shape = (img_height, img_width, 3))\n",
        "x = MobileNet_base_model(inputs, training = False)\n",
        "x = BatchNormalization(axis = -1, momentum = 0.99, epsilon = 0.001)(x)\n",
        "x = Dense(256,\n",
        "          kernel_regularizer = regularizers.l2(0.01),\n",
        "          activity_regularizer = regularizers.l1(0.01),\n",
        "          bias_regularizer = regularizers.l1(0.01),\n",
        "          activation = 'relu')(x)\n",
        "x = Dropout(rate = .4, seed = 512)(x)\n",
        "x = Dense(64, activation = 'relu')(x)\n",
        "outputs = Dense(1, activation = 'sigmoid')(x)\n",
        "MobileNet_model = tf.keras.Model(inputs, outputs)"
      ],
      "metadata": {
        "id": "CtTA2cJpmzK8"
      },
      "execution_count": null,
      "outputs": []
    },
    {
      "cell_type": "code",
      "source": [
        "# Compile the Transfer Learning model\n",
        "MobileNet_model.compile(\n",
        "    optimizer = 'adam',\n",
        "    loss = tf.keras.losses.BinaryCrossentropy(),\n",
        "    metrics = ['accuracy', tf.keras.metrics.Precision(), tf.keras.metrics.Recall()]\n",
        ")\n",
        "\n",
        "# Build the Transfer Learning model so we can see a summary\n",
        "MobileNet_model.summary()"
      ],
      "metadata": {
        "id": "xT6GOgzQoVmX"
      },
      "execution_count": null,
      "outputs": []
    },
    {
      "cell_type": "code",
      "source": [
        "# Visualize the MobileNet model architecture\n",
        "tf.keras.utils.plot_model(MobileNet_model, show_shapes = True, to_file = 'MobileNet_model.png')\n",
        "Image('MobileNet_model.png')"
      ],
      "metadata": {
        "id": "JZYb9WfvoXVu"
      },
      "execution_count": null,
      "outputs": []
    },
    {
      "cell_type": "code",
      "source": [
        "# Finally, train the Transfer Learning model\n",
        "print(\"Starting training with Transfer Learning using MobileNet...\")\n",
        "MobileNet_model_history = MobileNet_model.fit(\n",
        "    train_dataset,\n",
        "    validation_data = validation_dataset,\n",
        "    epochs = 5,\n",
        "    verbose = 1,\n",
        "    callbacks = [early_stopping]\n",
        ")\n",
        "print(\"Transfer Learning training finished.\")"
      ],
      "metadata": {
        "id": "q5JgEZj_ocHV"
      },
      "execution_count": null,
      "outputs": []
    },
    {
      "cell_type": "code",
      "source": [
        "\n",
        "val_loss, val_accuracy, val_precision, val_recall = MobileNet_model.evaluate(validation_dataset)\n",
        "\n",
        "# Print the metrics\n",
        "print(f\"Val Loss: {val_loss:.4f}\")\n",
        "print(f\"Val Accuracy: {val_accuracy:.4f}\")\n",
        "print(f\"Val Precision: {val_precision:.4f}\")\n",
        "print(f\"Val Recall: {val_recall:.4f}\")"
      ],
      "metadata": {
        "id": "q0X_Fywpoiiu"
      },
      "execution_count": null,
      "outputs": []
    },
    {
      "cell_type": "code",
      "source": [
        "# Evaluate the model on the test dataset\n",
        "test_loss, test_accuracy, test_precision, test_recall = MobileNet_model.evaluate(test_dataset)\n",
        "\n",
        "# Print the metrics\n",
        "print(f\"test Loss: {test_loss:.4f}\")\n",
        "print(f\"test Accuracy: {test_accuracy:.4f}\")\n",
        "print(f\"test Precision: {test_precision:.4f}\")\n",
        "print(f\"test Recall: {test_recall:.4f}\")"
      ],
      "metadata": {
        "id": "F9ypHstepPz9"
      },
      "execution_count": null,
      "outputs": []
    },
    {
      "cell_type": "code",
      "source": [],
      "metadata": {
        "id": "sYoYeqAd71OJ"
      },
      "execution_count": null,
      "outputs": []
    }
  ]
}